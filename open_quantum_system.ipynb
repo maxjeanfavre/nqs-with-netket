{
 "cells": [
  {
   "cell_type": "markdown",
   "id": "ef6abe8d",
   "metadata": {},
   "source": [
    "# Open Quantum Transverse-Field Ising Model (TFIM) with Bulk Dephasing\n",
    "\n",
    "This notebook simulate an *open quantum system* using **NetKet**.\n",
    "\n",
    "We study a one-dimensional spin-½ **Transverse-Field Ising Model (TFIM)** subject to **bulk dephasing**.\n",
    "\n",
    "The system evolves according to a **Lindblad master equation**, and we use a **Neural Density Matrix (NDM)** \n",
    "variational ansatz to approximate its *steady state*.\n",
    "\n",
    "We will:\n",
    "1. Build the TFIM Hamiltonian.\n",
    "2. Define the dissipators (jump operators).\n",
    "3. Construct the Liouvillian.\n",
    "4. Optimize the steady state with `SteadyState` driver.\n",
    "5. Compare with the exact steady-state solution for small system sizes.\n"
   ]
  },
  {
   "cell_type": "code",
   "execution_count": 1,
   "id": "1ba025f5",
   "metadata": {},
   "outputs": [
    {
     "name": "stderr",
     "output_type": "stream",
     "text": [
      "c:\\Users\\maxim\\anaconda3\\envs\\nqs311\\Lib\\site-packages\\tqdm\\auto.py:21: TqdmWarning: IProgress not found. Please update jupyter and ipywidgets. See https://ipywidgets.readthedocs.io/en/stable/user_install.html\n",
      "  from .autonotebook import tqdm as notebook_tqdm\n"
     ]
    }
   ],
   "source": [
    "import netket as nk\n",
    "import jax.numpy as jnp\n",
    "import numpy as np\n",
    "import matplotlib.pyplot as plt\n",
    "\n",
    "N         = 4                  # number of spins (keep small if you want exact check)\n",
    "Jzz       = 1.0                # Ising zz coupling\n",
    "Gamma     = 0.5                # transverse field (x)\n",
    "hz        = 0.0                # optional longitudinal field\n",
    "gamma_phi = 0.2                # bulk dephasing rate"
   ]
  },
  {
   "cell_type": "markdown",
   "id": "0789e38c",
   "metadata": {},
   "source": [
    "## 1. Building the System Hamiltonian\n",
    "\n",
    "We construct the **Transverse-Field Ising Model (TFIM)** Hamiltonian:\n",
    "\n",
    "$$\n",
    "H = -J_{zz} \\sum_i \\sigma_i^z \\sigma_{i+1}^z - \\Gamma \\sum_i \\sigma_i^x.\n",
    "$$\n",
    "\n",
    "- The first term couples neighboring spins along the z-axis (Ising interaction).  \n",
    "- The second term applies a transverse magnetic field along the x-axis.  \n",
    "\n",
    "We use **open boundary conditions** for simplicity (no periodic wrap-around).\n"
   ]
  },
  {
   "cell_type": "code",
   "execution_count": 2,
   "id": "4dfd138f",
   "metadata": {},
   "outputs": [
    {
     "name": "stdout",
     "output_type": "stream",
     "text": [
      "Hamiltonian built with TFIM + fields.\n",
      "LocalOperatorJax(dim=4, #acting_on=7 locations, constant=0.0, dtype=float64)\n"
     ]
    }
   ],
   "source": [
    "hi = nk.hilbert.Spin(s=1/2, N=N)\n",
    "\n",
    "# TFIM:  H = -J Σ σ^z_i σ^z_{i+1} - Γ Σ σ^x_i - h Σ σ^z_i  (PBC optional; here OBC for simplicity)\n",
    "H = nk.operator.LocalOperator(hi)\n",
    "\n",
    "# σ^z σ^z nearest-neighbor (open chain; use (i+1)%N for PBC)\n",
    "for i in range(N-1):\n",
    "    H += -Jzz * (nk.operator.spin.sigmaz(hi, i) @ nk.operator.spin.sigmaz(hi, i+1))\n",
    "\n",
    "# transverse field\n",
    "for i in range(N):\n",
    "    H += -Gamma * nk.operator.spin.sigmax(hi, i)\n",
    "\n",
    "\n",
    "print(\"Hamiltonian built with TFIM + fields.\")\n",
    "print(H)"
   ]
  },
  {
   "cell_type": "markdown",
   "id": "f5118e96",
   "metadata": {},
   "source": [
    "## 2. Defining the Liouvillian (Open Quantum System)\n",
    "\n",
    "To describe an *open* system interacting with an environment, we use the **Lindblad master equation**:\n",
    "\n",
    "$$\n",
    "\\dot{\\rho} = \\mathcal{L}(\\rho)\n",
    "= -i[H, \\rho] + \\sum_i \\left( L_i \\rho L_i^\\dagger\n",
    "- \\frac{1}{2}\\{L_i^\\dagger L_i, \\rho\\} \\right),\n",
    "$$\n",
    "\n",
    "where $ L_i $ are the jump operators representing the interaction with the environment.\n",
    "\n",
    "Here we model **pure dephasing** on each spin:\n",
    "\n",
    "$$\n",
    "L_i = \\sqrt{\\gamma_\\phi}\\,\\sigma_i^z.\n",
    "$$\n",
    "\n",
    "This type of noise destroys quantum coherence in the z-basis but preserves populations.\n"
   ]
  },
  {
   "cell_type": "code",
   "execution_count": 3,
   "id": "667c8744",
   "metadata": {},
   "outputs": [
    {
     "name": "stdout",
     "output_type": "stream",
     "text": [
      "Lindbladian (TFIM + bulk dephasing):\n",
      "LocalLiouvillian(hilbert=DoubledHilbert(Spin(s=1/2, N=4, ordering=new)), dtype=complex128)\n"
     ]
    }
   ],
   "source": [
    "jumps = [jnp.sqrt(gamma_phi) * nk.operator.spin.sigmaz(hi, i) for i in range(N)]\n",
    "L = nk.operator.LocalLiouvillian(H, jumps)\n",
    "print(\"Lindbladian (TFIM + bulk dephasing):\")\n",
    "print(L)"
   ]
  },
  {
   "cell_type": "markdown",
   "id": "e9cb52a8",
   "metadata": {},
   "source": [
    "## 3. Neural Density Matrix Ansatz (NDM)\n",
    "\n",
    "We represent the density matrix $ \\rho_\\theta $ using the **Neural Density Matrix (NDM)** ansatz.\n",
    "\n",
    "The NDM:\n",
    "- Guarantees that $ \\rho_\\theta $ is *positive semidefinite* and *Hermitian*.\n",
    "- Can be trained via stochastic optimization.\n",
    "- Lives on a **doubled Hilbert space**, where the left and right spin configurations are treated separately.\n",
    "\n",
    "Sampling is performed with:\n",
    "- A **MetropolisLocal** sampler on the doubled space (off-diagonal elements).\n",
    "- A second sampler restricted to the physical Hilbert space (for diagonal terms).\n"
   ]
  },
  {
   "cell_type": "code",
   "execution_count": 4,
   "id": "435879be",
   "metadata": {},
   "outputs": [],
   "source": [
    "model = nk.models.NDM(alpha=2)\n",
    "\n",
    "dh = nk.hilbert.DoubledHilbert(hi)\n",
    "sampler_off = nk.sampler.MetropolisLocal(dh, n_chains=128)\n",
    "sampler_diag = nk.sampler.MetropolisLocal(hi, n_chains=128)\n",
    "\n",
    "vstate = nk.vqs.MCMixedState(\n",
    "    sampler_off,\n",
    "    model,\n",
    "    sampler_diag=sampler_diag,\n",
    "    n_samples=512,\n",
    "    n_samples_diag=2048,\n",
    "    seed=123,\n",
    ")"
   ]
  },
  {
   "cell_type": "markdown",
   "id": "7c9123c9",
   "metadata": {},
   "source": [
    "## 4. Optimization Setup\n",
    "\n",
    "We use the **SteadyState** driver to find the variational steady state $ \\rho_\\theta^\\ast $\n",
    "that minimizes the loss:\n",
    "\n",
    "$$\n",
    "\\mathcal{L} = \\langle \\rho_\\theta | \\mathcal{L}^\\dagger \\mathcal{L} | \\rho_\\theta \\rangle.\n",
    "$$\n",
    "\n",
    "This quantity is zero only if $ \\mathcal{L}(\\rho_\\theta) = 0 $, i.e., the steady-state condition.\n",
    "\n",
    "Training details:\n",
    "- **Adam optimizer** for parameter updates.\n",
    "- **Stochastic Reconfiguration (SR)** as a natural gradient preconditioner.\n",
    "- Learning rate (`lr`) and SR regularization (`diag_shift`) are reduced progressively across three training phases.\n"
   ]
  },
  {
   "cell_type": "code",
   "execution_count": 5,
   "id": "2c19f420",
   "metadata": {},
   "outputs": [
    {
     "name": "stdout",
     "output_type": "stream",
     "text": [
      "\n",
      "Phase 1: lr=0.003, shift=0.005\n"
     ]
    },
    {
     "name": "stderr",
     "output_type": "stream",
     "text": [
      "100%|██████████| 1000/1000 [01:28<00:00, 11.25it/s, LdagL=0.0405 ± 0.0086 [σ²=2.9e-02, R̂=1.180]]\n"
     ]
    },
    {
     "name": "stdout",
     "output_type": "stream",
     "text": [
      "\n",
      "Phase 2: lr=0.0015, shift=0.0025\n"
     ]
    },
    {
     "name": "stderr",
     "output_type": "stream",
     "text": [
      "100%|██████████| 500/500 [00:41<00:00, 12.12it/s, LdagL=0.0192 ± 0.0041 [σ²=7.7e-03, R̂=1.137]]\n"
     ]
    }
   ],
   "source": [
    "opti = nk.optimizer.Adam(learning_rate=3e-3)\n",
    "sr   = nk.optimizer.SR(diag_shift=5e-3)\n",
    "\n",
    "driver = nk.driver.SteadyState(\n",
    "    lindbladian=L,\n",
    "    variational_state=vstate,\n",
    "    optimizer=opti,\n",
    "    preconditioner=sr,\n",
    ")\n",
    "\n",
    "log = nk.logging.RuntimeLog()\n",
    "\n",
    "for phase, (iters, lr, shift) in enumerate([(1000, 3e-3, 5e-3),\n",
    "                                            (500, 1.5e-3, 2.5e-3),\n",
    "                                            ]):\n",
    "\n",
    "    opti.learning_rate = lr\n",
    "    sr.diag_shift = shift\n",
    "    print(f\"\\nPhase {phase+1}: lr={lr}, shift={shift}\")\n",
    "    driver.run(n_iter=iters, out=log)\n",
    "\n"
   ]
  },
  {
   "cell_type": "code",
   "execution_count": 6,
   "id": "9153a1e7",
   "metadata": {},
   "outputs": [
    {
     "data": {
      "image/png": "[encoded data removed]",
      "text/plain": [
       "<Figure size 640x480 with 1 Axes>"
      ]
     },
     "metadata": {},
     "output_type": "display_data"
    }
   ],
   "source": [
    "def _extract_series(log, key):\n",
    "    x = log.data[key]\n",
    "    if isinstance(x, dict):\n",
    "        for k in (\"Mean\",\"mean\",\"Value\",\"value\"):\n",
    "            if k in x:\n",
    "                return np.asarray(x[k], dtype=float)\n",
    "        return np.asarray(list(x.values()), dtype=float)\n",
    "    return np.asarray(x, dtype=float)\n",
    "\n",
    "if \"LdagL\" in log.data:\n",
    "    iters  = np.arange(len(_extract_series(log, \"LdagL\")))\n",
    "    losses = _extract_series(log, \"LdagL\")\n",
    "\n",
    "    plt.figure()\n",
    "    plt.semilogy(iters, losses, \"-o\", ms=3)\n",
    "    plt.xlabel(\"Iteration\")\n",
    "    plt.ylabel(r\"Loss  $\\langle\\rho|{\\cal L}^\\dagger{\\cal L}|\\rho\\rangle$\")\n",
    "    plt.title(\"Steady-state variational loss\")\n",
    "    plt.grid(True)\n",
    "\n",
    "    plt.show()"
   ]
  },
  {
   "cell_type": "markdown",
   "id": "53d3407e",
   "metadata": {},
   "source": [
    "## 5. Exact vs Variational Checks (Small N)\n",
    "\n",
    "For small system sizes $ N $, we can explicitly compute the exact steady state $ \\rho_{\\text{ex}} $ by solving\n",
    "\n",
    "$$\n",
    "\\mathcal{L}\\,\\mathrm{vec}(\\rho_{\\text{ex}}) = 0\n",
    "$$\n",
    "\n",
    "using sparse linear algebra solvers on the Liouvillian superoperator.\n",
    "\n",
    "We then compare the variational results obtained with the NDM ansatz to these exact steady-state expectations.\n",
    "\n",
    "### Quantities Compared\n",
    "- **Energy density:**  \n",
    "  $$\n",
    "  \\langle H \\rangle / N = \\frac{1}{N}\\,\\mathrm{Tr}(\\rho\\,H)\n",
    "  $$\n",
    "- **Local magnetizations:**  \n",
    "  $$\n",
    "  \\langle \\sigma_i^x \\rangle,\\quad \\langle \\sigma_i^z \\rangle\n",
    "  $$\n",
    "\n"
   ]
  },
  {
   "cell_type": "code",
   "execution_count": 7,
   "id": "77dfd7e0",
   "metadata": {},
   "outputs": [],
   "source": [
    "import numpy as np\n",
    "import scipy.sparse as sp\n",
    "import scipy.sparse.linalg as spla\n",
    "\n",
    "# --- Exact steady state with SciPy (sparse) ------------------------------\n",
    "def steady_state_sparse(L, N, prefer='svd'):\n",
    "    \"\"\"\n",
    "    Find rho_ss s.t. L vec(rho_ss) = 0 using sparse SciPy solvers.\n",
    "    L: NetKet Lindbladian (nk.operator.LocalLiouvillian or similar)\n",
    "    N: Hilbert dimension (not #spins)  -> rho will be NxN\n",
    "    prefer: 'svd' (recommended) or 'eigs'\n",
    "    \"\"\"\n",
    "    # Get sparse superoperator in column-stacking (NetKet uses vec(.) convention)\n",
    "    Lsp = L.to_sparse()  # (N^2) x (N^2) csr_matrix\n",
    "\n",
    "    # ---- A) via smallest singular vector of L  (robust to non-normal L) ----\n",
    "    if prefer == 'svd':\n",
    "        try:\n",
    "            # Find the singular vector with the *smallest* singular value\n",
    "            # (needs SciPy >= 1.7; if not available, it'll raise and we’ll fallback)\n",
    "            u, s, vt = spla.svds(Lsp, k=1, which='SM')\n",
    "            v0 = vt[0]                  # right singular vector (shape N^2,)\n",
    "        except Exception:\n",
    "            prefer = 'eigs'             # fallback if 'SM' not supported\n",
    "\n",
    "    # ---- B) via eigenvector with eigenvalue closest to 0 (shift-invert) ----\n",
    "    if prefer == 'eigs':\n",
    "        # Shift-invert at sigma=0 targets eigenvalues near 0 as 'largest magnitude'\n",
    "        # This performs an LU factorization internally; OK for moderate sizes.\n",
    "        v0 = spla.eigs(Lsp, k=1, sigma=0.0, which='LM')[1][:, 0]\n",
    "\n",
    "    # reshape to matrix, make physical\n",
    "    rho = v0.reshape(N, N)\n",
    "\n",
    "    # Hermitize (remove tiny anti-Hermitian numerical parts)\n",
    "    rho = 0.5 * (rho + rho.conj().T)\n",
    "\n",
    "    # PSD clip (project onto positive semidefinite cone)\n",
    "    w, V = np.linalg.eigh(rho)\n",
    "    w = np.clip(w.real, 0.0, None)\n",
    "    if w.sum() == 0:\n",
    "        # null projection would happen only in pathological cases; fall back to I/N\n",
    "        rho = np.eye(N) / N\n",
    "    else:\n",
    "        rho = (V @ np.diag(w) @ V.conj().T) / w.sum()\n",
    "\n",
    "    # Normalize trace exactly\n",
    "    rho = rho / np.trace(rho)\n",
    "\n",
    "    # Optional: check residual ||L vec(rho)||_2\n",
    "    res = np.linalg.norm(Lsp @ rho.reshape(-1), ord=2)\n",
    "    return rho, res\n",
    "\n",
    "# --- Exact ⟨O⟩ and VMC ⟨O⟩ wrappers -------------------------------------\n",
    "def exact_expect(op, rho):\n",
    "    \"\"\"Exact ⟨O⟩ = Tr(ρ O). Works with dense or sparse op.\"\"\"\n",
    "    if hasattr(op, \"to_sparse\"):\n",
    "        opM = op.to_sparse()\n",
    "        if sp.issparse(opM):\n",
    "            return float((opM @ rho).diagonal().sum().real)\n",
    "    opM = op.to_dense() if hasattr(op, \"to_dense\") else op\n",
    "    return float(np.trace(rho @ opM).real)\n",
    "\n",
    "def vmc_expect(op, vstate):\n",
    "    est = vstate.expect(op)\n",
    "    mean = float(est.mean.real)\n",
    "    err  = float(getattr(est, \"error_of_mean\", 0.0))\n",
    "    return mean, err\n",
    "\n"
   ]
  },
  {
   "cell_type": "code",
   "execution_count": 8,
   "id": "6df40922",
   "metadata": {},
   "outputs": [
    {
     "name": "stdout",
     "output_type": "stream",
     "text": [
      "||L vec(ρ_ss)||₂ = 1.388e-17 | Tr(ρ)= 1.000000\n",
      "\n",
      "Energy density  ⟨H⟩/L\n",
      "VMC: -0.611410  ± 0.0289    |   Exact: +0.000000\n",
      "\n",
      "⟨σx_i⟩   (VMC ± err)            [Exact]\n",
      "i=0: +0.338280 ± 0.00727    [+0.000000]\n",
      "i=1: +0.275706 ± 0.00836    [+0.000000]\n",
      "i=2: +0.267560 ± 0.0083    [+0.000000]\n",
      "i=3: +0.306606 ± 0.00543    [+0.000000]\n",
      "\n",
      "⟨σz_i⟩   (VMC ± err)            [Exact]\n",
      "i=0: +0.000977 ± 0.0422    [+0.000000]\n",
      "i=1: -0.004883 ± 0.0447    [+0.000000]\n",
      "i=2: +0.001953 ± 0.0442    [+0.000000]\n",
      "i=3: +0.020508 ± 0.0416    [+0.000000]\n"
     ]
    }
   ],
   "source": [
    "# --- Compare VMC vs Exact: energy and local mags -------------------------\n",
    "Nspins = hi.size\n",
    "dim    = hi.n_states\n",
    "\n",
    "# Exact steady state\n",
    "rho_ex, residual = steady_state_sparse(L, dim, prefer='svd')\n",
    "print(f\"||L vec(ρ_ss)||₂ = {residual:.3e} | Tr(ρ)= {np.trace(rho_ex).real:.6f}\")\n",
    "\n",
    "# Exact expectations\n",
    "from netket.operator.spin import sigmax, sigmaz\n",
    "\n",
    "mx_ex = [exact_expect(sigmax(hi,i), rho_ex) for i in range(Nspins)]\n",
    "mz_ex = [exact_expect(sigmaz(hi,i), rho_ex) for i in range(Nspins)]\n",
    "E_ex  = exact_expect(H, rho_ex) / Nspins\n",
    "\n",
    "# VMC expectations\n",
    "mx_vmc, mx_err, mz_vmc, mz_err = [], [], [], []\n",
    "for i in range(Nspins):\n",
    "    m, e = vmc_expect(sigmax(hi,i), vstate)\n",
    "    mx_vmc.append(m); mx_err.append(e)\n",
    "    m, e = vmc_expect(sigmaz(hi,i), vstate)\n",
    "    mz_vmc.append(m); mz_err.append(e)\n",
    "\n",
    "E_vmc, E_err = vmc_expect(H, vstate)\n",
    "E_vmc /= Nspins\n",
    "\n",
    "# Print comparison\n",
    "print(\"\\nEnergy density  ⟨H⟩/L\")\n",
    "print(f\"VMC: {E_vmc:+.6f}  ± {E_err:.3g}    |   Exact: {E_ex:+.6f}\")\n",
    "\n",
    "print(\"\\n⟨σx_i⟩   (VMC ± err)            [Exact]\")\n",
    "for i in range(Nspins):\n",
    "    print(f\"i={i}: {mx_vmc[i]:+.6f} ± {mx_err[i]:.3g}    [{mx_ex[i]:+.6f}]\")\n",
    "\n",
    "print(\"\\n⟨σz_i⟩   (VMC ± err)            [Exact]\")\n",
    "for i in range(Nspins):\n",
    "    print(f\"i={i}: {mz_vmc[i]:+.6f} ± {mz_err[i]:.3g}    [{mz_ex[i]:+.6f}]\")\n"
   ]
  },
  {
   "cell_type": "markdown",
   "id": "002c7b95",
   "metadata": {},
   "source": [
    "### Discussion\n",
    "\n",
    "The obtained results are not fully convincing, as the variational estimates of observables do not quantitatively match the exact steady-state values.  \n",
    "It remains unclear whether this discrepancy originates from statistical noise due to insufficient sampling or from an implementation issue.\n",
    "\n",
    "Since no official NetKet tutorial currently documents the full workflow for open-system steady-state optimization with a Neural Density Matrix (NDM), some steps of the approach—particularly the setup of samplers and the steady-state driver—may have been misapplied or incomplete in this notebook.\n"
   ]
  },
  {
   "cell_type": "markdown",
   "id": "236f53ea",
   "metadata": {},
   "source": []
  }
 ],
 "metadata": {
  "kernelspec": {
   "display_name": "nqs311",
   "language": "python",
   "name": "python3"
  },
  "language_info": {
   "codemirror_mode": {
    "name": "ipython",
    "version": 3
   },
   "file_extension": ".py",
   "mimetype": "text/x-python",
   "name": "python",
   "nbconvert_exporter": "python",
   "pygments_lexer": "ipython3",
   "version": "3.11.13"
  }
 },
 "nbformat": 4,
 "nbformat_minor": 5
}
