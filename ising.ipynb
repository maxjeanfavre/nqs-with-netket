{
 "cells": [
  {
   "cell_type": "markdown",
   "id": "016db1f7",
   "metadata": {},
   "source": [
    "# Ground State of the 1D Ising model — Extensions beyond the NetKet tutorial\n",
    "\n",
    "This notebook extends the NetKet tutorial on the 1D TFIM  \n",
    "[“Ground-state of the Ising model”](https://netket.readthedocs.io/en/latest/tutorials/gs-ising.html).\n",
    "\n",
    "**New contributions (beyond the tutorial)**\n",
    "1. **CNN ansatz (1D)** — local receptive fields for short-range correlations.\n",
    "2. **Transformer (factored, translation-equivariant)** — distance-aware mixing for long-range structure.\n",
    "3. **Autoregressive NQS (ARNN / masked CNN)** — **exact sampling** via factorized Born probabilities.\n",
    "\n",
    "Baseline sections (**Mean-Field, Jastrow, FFN, Translation symmetry**) follow the tutorial and are used for comparison.\n",
    "\n",
    "A companion notebook `ising_without_netket.ipynb` reimplements the key ideas **without** NetKet abstractions to expose the underlying VMC machinery.\n"
   ]
  },
  {
   "cell_type": "markdown",
   "id": "a477fed8",
   "metadata": {},
   "source": [
    "### Build Hamiltonian (from tutorial)"
   ]
  },
  {
   "cell_type": "code",
   "execution_count": 1,
   "id": "2df212b9",
   "metadata": {},
   "outputs": [
    {
     "name": "stdout",
     "output_type": "stream",
     "text": [
      "Spin(s=1/2, N=12, ordering=new)\n"
     ]
    },
    {
     "name": "stderr",
     "output_type": "stream",
     "text": [
      "c:\\Users\\maxim\\anaconda3\\envs\\nqs311\\Lib\\site-packages\\tqdm\\auto.py:21: TqdmWarning: IProgress not found. Please update jupyter and ipywidgets. See https://ipywidgets.readthedocs.io/en/stable/user_install.html\n",
      "  from .autonotebook import tqdm as notebook_tqdm\n"
     ]
    }
   ],
   "source": [
    "import netket as nk\n",
    "\n",
    "N = 12\n",
    "hi = nk.hilbert.Spin(s=1 / 2, N=N)\n",
    "\n",
    "print(hi)"
   ]
  },
  {
   "cell_type": "code",
   "execution_count": 2,
   "id": "acd6f79e",
   "metadata": {},
   "outputs": [
    {
     "data": {
      "text/plain": [
       "Array([[-1, -1, -1, -1, -1, -1,  1,  1,  1,  1,  1, -1],\n",
       "       [ 1,  1, -1,  1,  1, -1, -1,  1,  1,  1,  1, -1],\n",
       "       [-1,  1,  1,  1, -1, -1,  1,  1,  1, -1, -1,  1]], dtype=int8)"
      ]
     },
     "execution_count": 2,
     "metadata": {},
     "output_type": "execute_result"
    }
   ],
   "source": [
    "import jax\n",
    "\n",
    "hi.random_state(jax.random.key(0), 3)  # give us 3 random states of 10 spins"
   ]
  },
  {
   "cell_type": "code",
   "execution_count": 3,
   "id": "1254d762",
   "metadata": {},
   "outputs": [],
   "source": [
    "from netket.operator.spin import sigmax, sigmaz\n",
    "\n",
    "# We build the Hamiltonian as a matrix (sparse) for exact diagonalization  \n",
    "\n",
    "Gamma = -1\n",
    "H = sum([Gamma * sigmax(hi, i) for i in range(N)])\n",
    "\n",
    "V = -1\n",
    "H += sum([V * sigmaz(hi, i) @ sigmaz(hi, (i + 1) % N) for i in range(N)])"
   ]
  },
  {
   "cell_type": "markdown",
   "id": "504be65f",
   "metadata": {},
   "source": [
    "## Exact diagonalization (from tutorial)"
   ]
  },
  {
   "cell_type": "code",
   "execution_count": 4,
   "id": "7cf1ca62",
   "metadata": {},
   "outputs": [
    {
     "name": "stdout",
     "output_type": "stream",
     "text": [
      "eigenvalues with scipy sparse: [-15.32259515 -15.19150823]\n"
     ]
    }
   ],
   "source": [
    "from scipy.sparse.linalg import eigsh\n",
    "\n",
    "sp_h = H.to_sparse()\n",
    "sp_h.shape\n",
    "\n",
    "eig_vals, eig_vecs = eigsh(sp_h, k=2, which=\"SA\")\n",
    "\n",
    "print(\"eigenvalues with scipy sparse:\", eig_vals)\n",
    "\n",
    "E_gs = eig_vals[0]"
   ]
  },
  {
   "cell_type": "markdown",
   "id": "5b185fbb",
   "metadata": {},
   "source": [
    "## Mean-Field Ansatz (from tutorial)"
   ]
  },
  {
   "cell_type": "code",
   "execution_count": 5,
   "id": "65a46f96",
   "metadata": {},
   "outputs": [],
   "source": [
    "# numerical operations in the model should always use jax.numpy\n",
    "# instead of numpy because jax supports computing derivatives.\n",
    "# If you want to better understand the difference between the two, check\n",
    "# https://flax.readthedocs.io/en/latest/notebooks/jax_for_the_impatient.html\n",
    "import jax.numpy as jnp\n",
    "\n",
    "# Flax is a framework to define models using jax\n",
    "\n",
    "# Flax has two 'neural network' libraries. THe  first one is `flax.linen`\n",
    "# which has been in use since 2020, and most examples use it. The new one,\n",
    "# nnx, is somewhat simpler to use, and it's the one we will use here.\n",
    "from flax import nnx\n",
    "\n",
    "\n",
    "# An NNX model must be a class subclassing `nnx.Module`\n",
    "class MF(nnx.Module):\n",
    "    \"\"\"\n",
    "    A class implementing a uniform mean-field model.\n",
    "    \"\"\"\n",
    "\n",
    "    # The __init__ function is used to define the parameters of the model\n",
    "    # The RNG argument is used to initialize the parameters of the model.\n",
    "    def __init__(self, *, rngs: nnx.Rngs):\n",
    "        # To generate random numbers we need to extract the key from the\n",
    "        # `rngs` object.\n",
    "        key = rngs.params()\n",
    "        # We store the log-wavefunction on a single site, and we call it\n",
    "        # `log_phi_local`. This is a variational parameter, and it will be\n",
    "        # optimized during training.\n",
    "        #\n",
    "        # We store a single real parameter, as we assume the wavefunction\n",
    "        # is normalised, and initialise it according to a normal distibution.\n",
    "        self.log_phi_local = nnx.Param(jax.random.normal(key, (1,)))\n",
    "\n",
    "    # The __call__(self, x) function should take as\n",
    "    # input a batch of states x.shape = (n_samples, L)\n",
    "    # and should return a vector of n_samples log-amplitudes\n",
    "    def __call__(self, x: jax.Array):\n",
    "\n",
    "        # compute the probabilities\n",
    "        p = nnx.log_sigmoid(self.log_phi_local * x)\n",
    "\n",
    "        # sum the output\n",
    "        return 0.5 * jnp.sum(p, axis=-1)"
   ]
  },
  {
   "cell_type": "code",
   "execution_count": 6,
   "id": "1e7727c5",
   "metadata": {},
   "outputs": [
    {
     "name": "stdout",
     "output_type": "stream",
     "text": [
      "{'log_phi_local': Array([1.88002989], dtype=float64)}\n"
     ]
    }
   ],
   "source": [
    "# Create an instance of the model, using the seed 0\n",
    "mf_model = MF(rngs=nnx.Rngs(0))\n",
    "# If you want to learn more about how to use this model, check the nnx tutorial\n",
    "# https://flax.readthedocs.io/en/latest/nnx_basics.html\n",
    "\n",
    "# Create the local sampler on the hilbert space\n",
    "sampler = nk.sampler.MetropolisLocal(hi)\n",
    "\n",
    "# Construct the variational state using the model and the sampler above.\n",
    "# n_samples specifies how many samples should be used to compute expectation\n",
    "# values.\n",
    "vstate = nk.vqs.MCState(sampler, mf_model, n_samples=512)\n",
    "\n",
    "print(vstate.parameters)"
   ]
  },
  {
   "cell_type": "code",
   "execution_count": 7,
   "id": "dd712dd9",
   "metadata": {},
   "outputs": [
    {
     "name": "stdout",
     "output_type": "stream",
     "text": [
      "-14.629 ± 0.083 [σ²=3.5e+00, R̂=1.034]\n",
      "Mean                  : -14.629177692088163\n",
      "Error                 : 0.08280628321798354\n",
      "Variance              : 3.510722836672974\n",
      "Convergence indicator : 1.0343179263671636\n",
      "Correlation time      : 0.0\n"
     ]
    }
   ],
   "source": [
    "E = vstate.expect(H)\n",
    "print(E)\n",
    "\n",
    "print(\"Mean                  :\", E.mean)\n",
    "print(\"Error                 :\", E.error_of_mean)\n",
    "print(\"Variance              :\", E.variance)\n",
    "print(\"Convergence indicator :\", E.R_hat)\n",
    "print(\"Correlation time      :\", E.tau_corr)"
   ]
  },
  {
   "cell_type": "code",
   "execution_count": 8,
   "id": "6c11eb8d",
   "metadata": {},
   "outputs": [
    {
     "data": {
      "text/plain": [
       "(-14.629 ± 0.083 [σ²=3.5e+00, R̂=1.034],\n",
       " {'log_phi_local': Array([-0.99720794], dtype=float64)})"
      ]
     },
     "execution_count": 8,
     "metadata": {},
     "output_type": "execute_result"
    }
   ],
   "source": [
    "vstate.expect_and_grad(H)"
   ]
  },
  {
   "cell_type": "markdown",
   "id": "d818f289",
   "metadata": {},
   "source": [
    "## Optimization loop (from tutorial)"
   ]
  },
  {
   "cell_type": "markdown",
   "id": "68edc79e",
   "metadata": {},
   "source": [
    "Manual optimization"
   ]
  },
  {
   "cell_type": "code",
   "execution_count": 9,
   "id": "a3075b32",
   "metadata": {},
   "outputs": [
    {
     "name": "stderr",
     "output_type": "stream",
     "text": [
      "100%|██████████| 100/100 [00:01<00:00, 77.32it/s]\n"
     ]
    }
   ],
   "source": [
    "from tqdm import tqdm\n",
    "\n",
    "energy_history = []\n",
    "n_steps = 100\n",
    "\n",
    "# For every iteration (tqdm is just a progress bar)\n",
    "for i in tqdm(range(n_steps)):\n",
    "    # compute energy and gradient of the energy\n",
    "    E, E_grad = vstate.expect_and_grad(H)\n",
    "    # log the energy to a list\n",
    "    energy_history.append(E.mean.real)\n",
    "    # equivalent to vstate.parameters - 0.05*E_grad , but it performs this\n",
    "    # function on every leaf of the dictionaries containing the set of parameters\n",
    "    new_pars = jax.tree_util.tree_map(\n",
    "        lambda x, y: x - 0.05 * y, vstate.parameters, E_grad\n",
    "    )\n",
    "    # actually update the parameters\n",
    "    vstate.parameters = new_pars"
   ]
  },
  {
   "cell_type": "code",
   "execution_count": 10,
   "id": "d74f4059",
   "metadata": {},
   "outputs": [
    {
     "data": {
      "text/plain": [
       "[<matplotlib.lines.Line2D at 0x1d241b2f950>]"
      ]
     },
     "execution_count": 10,
     "metadata": {},
     "output_type": "execute_result"
    },
    {
     "data": {
      "image/png": "[encoded data removed]",
      "text/plain": [
       "<Figure size 640x480 with 1 Axes>"
      ]
     },
     "metadata": {},
     "output_type": "display_data"
    }
   ],
   "source": [
    "import matplotlib.pyplot as plt\n",
    "\n",
    "plt.plot(energy_history)"
   ]
  },
  {
   "cell_type": "markdown",
   "id": "a01bf905",
   "metadata": {},
   "source": [
    "NetKet optimization"
   ]
  },
  {
   "cell_type": "code",
   "execution_count": 11,
   "id": "c814b06f",
   "metadata": {},
   "outputs": [
    {
     "name": "stderr",
     "output_type": "stream",
     "text": [
      "100%|██████████| 300/300 [00:05<00:00, 57.46it/s, Energy=-14.989 ± 0.034 [σ²=6.1e-01, R̂=1.015]] \n"
     ]
    },
    {
     "name": "stdout",
     "output_type": "stream",
     "text": [
      "Optimized energy and relative error:  -15.054 ± 0.041 [σ²=8.5e-01, R̂=1.034] 0.01752848149570578\n"
     ]
    }
   ],
   "source": [
    "# First we reset the parameters to run the optimisation again\n",
    "vstate.init_parameters()\n",
    "\n",
    "# Then we create an optimiser from the standard library.\n",
    "# You can also use optax.\n",
    "optimizer = nk.optimizer.Sgd(learning_rate=0.05)\n",
    "\n",
    "# build the optimisation driver\n",
    "gs = nk.driver.VMC(H, optimizer, variational_state=vstate)\n",
    "\n",
    "# run the driver for 300 iterations. This will display a progress bar\n",
    "# by default.\n",
    "gs.run(n_iter=300)\n",
    "\n",
    "mf_energy = vstate.expect(H)\n",
    "error = abs((mf_energy.mean - E_gs) / E_gs)\n",
    "print(\"Optimized energy and relative error: \", mf_energy, error)"
   ]
  },
  {
   "cell_type": "markdown",
   "id": "85798539",
   "metadata": {},
   "source": [
    "## Jastrow Ansatz (from tutorial)"
   ]
  },
  {
   "cell_type": "code",
   "execution_count": 12,
   "id": "dedfeea2",
   "metadata": {},
   "outputs": [],
   "source": [
    "class JasShort(nnx.Module):\n",
    "\n",
    "    def __init__(self, *, rngs: nnx.Rngs):\n",
    "\n",
    "        # Define two parameters j1, and j2.\n",
    "        # Initialise them with a random normal distribution of standard deviation\n",
    "        # 0.01\n",
    "        # We must get a different key for each parameter, otherwise they will be\n",
    "        # initialised with the same value.\n",
    "        self.j1 = nnx.Param(0.01 * jax.random.normal(rngs.params(), (1,)), dtype=float)\n",
    "        self.j2 = nnx.Param(0.01 * jax.random.normal(rngs.params(), (1,)), dtype=float)\n",
    "\n",
    "    def __call__(self, x: jax.Array):\n",
    "\n",
    "        # compute the nearest-neighbor correlations\n",
    "        corr1 = x * jnp.roll(x, -1, axis=-1)\n",
    "        corr2 = x * jnp.roll(x, -2, axis=-1)\n",
    "\n",
    "        # sum the output\n",
    "        return jnp.sum(self.j1 * corr1 + self.j2 * corr2, axis=-1)\n",
    "\n",
    "\n",
    "# Initialise the model wtih seed 1\n",
    "model = JasShort(rngs=nnx.Rngs(1))\n",
    "\n",
    "vstate = nk.vqs.MCState(sampler, model, n_samples=1008)"
   ]
  },
  {
   "cell_type": "code",
   "execution_count": 13,
   "id": "c3829fd0",
   "metadata": {},
   "outputs": [
    {
     "name": "stderr",
     "output_type": "stream",
     "text": [
      "100%|██████████| 300/300 [00:07<00:00, 38.89it/s, Energy=-15.270 ± 0.019 [σ²=3.5e-01, R̂=1.020]]\n"
     ]
    },
    {
     "name": "stdout",
     "output_type": "stream",
     "text": [
      "Final optimized parameters: j1=[0.2329507], j2=[0.09055762]\n",
      "Optimized energy : -15.205 ± 0.018 [σ²=3.1e-01, R̂=1.008]\n",
      "relative error   : 0.007702486385727556\n"
     ]
    }
   ],
   "source": [
    "optimizer = nk.optimizer.Sgd(learning_rate=0.01)\n",
    "gs = nk.driver.VMC(\n",
    "    H,\n",
    "    optimizer,\n",
    "    variational_state=vstate,\n",
    "    preconditioner=nk.optimizer.SR(diag_shift=0.1),\n",
    ")\n",
    "\n",
    "# construct the logger\n",
    "log = nk.logging.RuntimeLog()\n",
    "\n",
    "# One or more logger objects must be passed to the keyword argument `out`.\n",
    "gs.run(n_iter=300, out=log)\n",
    "\n",
    "print(\n",
    "    f\"Final optimized parameters: j1={vstate.parameters['j1']}, j2={vstate.parameters['j2']}\"\n",
    ")\n",
    "\n",
    "jas_energy = vstate.expect(H)\n",
    "error = abs((jas_energy.mean - E_gs) / E_gs)\n",
    "print(f\"Optimized energy : {jas_energy}\")\n",
    "print(f\"relative error   : {error}\")\n"
   ]
  },
  {
   "cell_type": "code",
   "execution_count": 14,
   "id": "ea2f97e1",
   "metadata": {},
   "outputs": [
    {
     "name": "stdout",
     "output_type": "stream",
     "text": [
      "HistoryDict with 2 elements:\n",
      "\t'Energy' -> History(keys=['Mean', 'Variance', 'Sigma', 'R_hat', 'TauCorr'], n_iters=300)\n",
      "\t'acceptance' -> History(keys=['value'], n_iters=300)\n"
     ]
    }
   ],
   "source": [
    "data_jastrow = log.data\n",
    "print(data_jastrow)"
   ]
  },
  {
   "cell_type": "code",
   "execution_count": 15,
   "id": "338eece6",
   "metadata": {},
   "outputs": [
    {
     "data": {
      "text/plain": [
       "Text(0, 0.5, 'Energy')"
      ]
     },
     "execution_count": 15,
     "metadata": {},
     "output_type": "execute_result"
    },
    {
     "data": {
      "image/png": "[encoded data removed]",
      "text/plain": [
       "<Figure size 640x480 with 1 Axes>"
      ]
     },
     "metadata": {},
     "output_type": "display_data"
    }
   ],
   "source": [
    "from matplotlib import pyplot as plt\n",
    "\n",
    "plt.errorbar(\n",
    "    data_jastrow[\"Energy\"].iters,\n",
    "    data_jastrow[\"Energy\"].Mean,\n",
    "    yerr=data_jastrow[\"Energy\"].Sigma,\n",
    ")\n",
    "plt.xlabel(\"Iterations\")\n",
    "plt.ylabel(\"Energy\")"
   ]
  },
  {
   "cell_type": "markdown",
   "id": "ff889ef0",
   "metadata": {},
   "source": [
    "### Neural-Network Quantum State (from tutorial)"
   ]
  },
  {
   "cell_type": "code",
   "execution_count": 16,
   "id": "a7e9cf38",
   "metadata": {},
   "outputs": [],
   "source": [
    "from flax import nnx\n",
    "import jax.numpy as jnp\n",
    "\n",
    "\n",
    "# Create the local sampler on the hilbert space\n",
    "sampler = nk.sampler.MetropolisLocal(hi)\n",
    "\n",
    "class FFN(nnx.Module):\n",
    "\n",
    "    def __init__(self, N: int, alpha: int = 1, *, rngs: nnx.Rngs):\n",
    "        \"\"\"\n",
    "        Construct a Feed-Forward Neural Network with a single hidden layer.\n",
    "\n",
    "        Args:\n",
    "            N: The number of input nodes (number of spins in the chain).\n",
    "            alpha: The density of the hidden layer. The hidden layer will have\n",
    "                N*alpha nodes.\n",
    "            rngs: The random number generator seed.\n",
    "        \"\"\"\n",
    "        self.alpha = alpha\n",
    "\n",
    "        # We define a linear (or dense) layer with `alpha` times the number of input nodes\n",
    "        # as output nodes.\n",
    "        # We must pass forward the rngs object to the dense layer.\n",
    "        self.linear = nnx.Linear(in_features=N, out_features=alpha * N, rngs=rngs)\n",
    "\n",
    "    def __call__(self, x: jax.Array):\n",
    "\n",
    "        # we apply the linear layer to the input\n",
    "        y = self.linear(x)\n",
    "\n",
    "        # the non-linearity is a simple ReLu\n",
    "        y = nnx.relu(y)\n",
    "\n",
    "        # sum the output\n",
    "        return jnp.sum(y, axis=-1)\n",
    "\n",
    "\n",
    "model = FFN(N=N, alpha=1, rngs=nnx.Rngs(2))\n",
    "\n",
    "vstate = nk.vqs.MCState(sampler, model, n_samples=1008)"
   ]
  },
  {
   "cell_type": "code",
   "execution_count": 17,
   "id": "63afa912",
   "metadata": {},
   "outputs": [
    {
     "name": "stderr",
     "output_type": "stream",
     "text": [
      "100%|██████████| 300/300 [00:13<00:00, 22.59it/s, Energy=-15.3140 ± 0.0064 [σ²=4.2e-02, R̂=1.004]]\n"
     ]
    },
    {
     "name": "stdout",
     "output_type": "stream",
     "text": [
      "Optimized energy and relative error:  -15.3189 ± 0.0070 [σ²=5.0e-02, R̂=1.005] 0.0002392600170201101\n"
     ]
    }
   ],
   "source": [
    "optimizer = nk.optimizer.Sgd(learning_rate=0.1)\n",
    "\n",
    "# Notice the use, again of Stochastic Reconfiguration, which considerably improves the optimisation\n",
    "gs = nk.driver.VMC(\n",
    "    H,\n",
    "    optimizer,\n",
    "    variational_state=vstate,\n",
    "    preconditioner=nk.optimizer.SR(diag_shift=0.1),\n",
    ")\n",
    "\n",
    "log = nk.logging.RuntimeLog()\n",
    "gs.run(n_iter=300, out=log)\n",
    "\n",
    "ffn_energy = vstate.expect(H)\n",
    "error = abs((ffn_energy.mean - E_gs) / E_gs)\n",
    "print(\"Optimized energy and relative error: \", ffn_energy, error)"
   ]
  },
  {
   "cell_type": "code",
   "execution_count": 18,
   "id": "0ba8d09c",
   "metadata": {},
   "outputs": [
    {
     "data": {
      "text/plain": [
       "Text(0, 0.5, 'Energy')"
      ]
     },
     "execution_count": 18,
     "metadata": {},
     "output_type": "execute_result"
    },
    {
     "data": {
      "image/png": "[encoded data removed]",
      "text/plain": [
       "<Figure size 640x480 with 1 Axes>"
      ]
     },
     "metadata": {},
     "output_type": "display_data"
    }
   ],
   "source": [
    "data_FFN = log.data\n",
    "\n",
    "plt.errorbar(\n",
    "    data_jastrow[\"Energy\"].iters,\n",
    "    data_jastrow[\"Energy\"].Mean,\n",
    "    yerr=data_jastrow[\"Energy\"].Sigma,\n",
    "    label=\"Jastrow\",\n",
    ")\n",
    "plt.errorbar(\n",
    "    data_FFN[\"Energy\"].iters,\n",
    "    data_FFN[\"Energy\"].Mean,\n",
    "    yerr=data_FFN[\"Energy\"].Sigma,\n",
    "    label=\"FFN\",\n",
    ")\n",
    "plt.hlines([E_gs], xmin=0, xmax=300, color=\"black\", label=\"Exact\")\n",
    "plt.legend()\n",
    "\n",
    "plt.xlabel(\"Iterations\")\n",
    "plt.ylabel(\"Energy\")"
   ]
  },
  {
   "cell_type": "markdown",
   "id": "a27c10c5",
   "metadata": {},
   "source": [
    "## Translation Symmetry (from tutorial)"
   ]
  },
  {
   "cell_type": "code",
   "execution_count": 19,
   "id": "fab88982",
   "metadata": {},
   "outputs": [
    {
     "name": "stdout",
     "output_type": "stream",
     "text": [
      "TranslationGroup(lattice:\n",
      "Lattice(\n",
      "    n_nodes=12,\n",
      "    extent=[12],\n",
      "    basis_vectors=\n",
      "        [[1.]],\n",
      "    site_offsets=\n",
      "        [[0.]],\n",
      ")\n",
      "\n",
      "axes:(0,))\n"
     ]
    }
   ],
   "source": [
    "graph = nk.graph.Chain(length=N, pbc=True)\n",
    "\n",
    "print(graph.translation_group())"
   ]
  },
  {
   "cell_type": "code",
   "execution_count": 20,
   "id": "23b4bd4d",
   "metadata": {},
   "outputs": [],
   "source": [
    "Gamma = -1\n",
    "H = sum([Gamma * sigmax(hi, i) for i in range(N)])\n",
    "\n",
    "V = -1\n",
    "H += sum([V * sigmaz(hi, i) @ sigmaz(hi, j) for (i, j) in graph.edges()])"
   ]
  },
  {
   "cell_type": "code",
   "execution_count": 21,
   "id": "12fd59d9",
   "metadata": {},
   "outputs": [
    {
     "data": {
      "text/plain": [
       "52"
      ]
     },
     "execution_count": 21,
     "metadata": {},
     "output_type": "execute_result"
    }
   ],
   "source": [
    "import flax.linen as nn\n",
    "import netket.nn as nknn\n",
    "\n",
    "\n",
    "class SymmModel(nnx.Module):\n",
    "\n",
    "    def __init__(self, N: int, alpha: int = 1, *, rngs: nnx.Rngs):\n",
    "        \"\"\"\n",
    "        Construct a Feed-Forward Neural Network with a single hidden layer.\n",
    "\n",
    "        Args:\n",
    "            N: The number of input nodes (number of spins in the chain).\n",
    "            alpha: The density of the hidden layer. The hidden layer will have\n",
    "                N*alpha nodes.\n",
    "            rngs: The random number generator seed.\n",
    "        \"\"\"\n",
    "        self.alpha = alpha\n",
    "\n",
    "        # We want to use netket's DenseSymm layer, which requires a symmetry group.\n",
    "        dense_symm_linen = nknn.DenseSymm(\n",
    "            symmetries=graph.translation_group(),\n",
    "            features=alpha,\n",
    "            kernel_init=nn.initializers.normal(stddev=0.01),\n",
    "        )\n",
    "        # However, this layer is defined using ``flax.linen``, so to use it with NNX we\n",
    "        # must resort to the conversion function ``nnx.bridge.ToNNX``.\n",
    "        # The syntax is a bit weird, as we need to separately pass the random number generator\n",
    "        # and then initialize the layer with a dummy input of shape (1, 1, Nsites).\n",
    "        self.linear_symm = nnx.bridge.ToNNX(dense_symm_linen, rngs=rngs).lazy_init(\n",
    "            jnp.ones((1, 1, N))\n",
    "        )\n",
    "\n",
    "    def __call__(self, x: jax.Array):\n",
    "        # add an extra dimension with size 1, because DenseSymm requires rank-3 tensors as inputs.\n",
    "        # the shape will now be (batches, 1, Nsites)\n",
    "        x = x.reshape(-1, 1, x.shape[-1])\n",
    "\n",
    "        x = self.linear_symm(x)\n",
    "        x = nnx.relu(x)\n",
    "\n",
    "        # sum the output\n",
    "        return jnp.sum(x, axis=(-1, -2))\n",
    "\n",
    "\n",
    "sampler = nk.sampler.MetropolisLocal(hi)\n",
    "\n",
    "# Let us define a model with 4 features per symmetry\n",
    "model = SymmModel(N=N, alpha=4, rngs=nnx.Rngs(2))\n",
    "\n",
    "vstate = nk.vqs.MCState(sampler, model, n_samples=1008)\n",
    "\n",
    "vstate.n_parameters"
   ]
  },
  {
   "cell_type": "code",
   "execution_count": 22,
   "id": "95425498",
   "metadata": {},
   "outputs": [
    {
     "name": "stderr",
     "output_type": "stream",
     "text": [
      "100%|██████████| 300/300 [00:13<00:00, 22.37it/s, Energy=-15.3218 ± 0.0013 [σ²=1.6e-03, R̂=1.002]]\n"
     ]
    },
    {
     "name": "stdout",
     "output_type": "stream",
     "text": [
      "Optimized energy and relative error:  -15.3211 ± 0.0012 [σ²=1.5e-03, R̂=1.009] 0.00010028827245362886\n"
     ]
    }
   ],
   "source": [
    "optimizer = nk.optimizer.Sgd(learning_rate=0.1)\n",
    "\n",
    "gs = nk.driver.VMC(\n",
    "    H,\n",
    "    optimizer,\n",
    "    variational_state=vstate,\n",
    "    preconditioner=nk.optimizer.SR(diag_shift=0.1),\n",
    ")\n",
    "\n",
    "log = nk.logging.RuntimeLog()\n",
    "gs.run(n_iter=300, out=log)\n",
    "\n",
    "symm_energy = vstate.expect(H)\n",
    "error = abs((symm_energy.mean - E_gs) / E_gs)\n",
    "print(\"Optimized energy and relative error: \", symm_energy, error)"
   ]
  },
  {
   "cell_type": "code",
   "execution_count": 23,
   "id": "b98f32ae",
   "metadata": {},
   "outputs": [
    {
     "data": {
      "text/plain": [
       "<matplotlib.legend.Legend at 0x1d25d6bb210>"
      ]
     },
     "execution_count": 23,
     "metadata": {},
     "output_type": "execute_result"
    },
    {
     "data": {
      "image/png": "[encoded data removed]",
      "text/plain": [
       "<Figure size 640x480 with 1 Axes>"
      ]
     },
     "metadata": {},
     "output_type": "display_data"
    }
   ],
   "source": [
    "plt.errorbar(\n",
    "    log.data[\"Energy\"].iters[50:],\n",
    "    log.data[\"Energy\"].Mean[50:],\n",
    "    yerr=log.data[\"Energy\"].Sigma[50:],\n",
    "    label=\"SymmModel\",\n",
    ")\n",
    "\n",
    "plt.axhline(\n",
    "    y=E_gs,\n",
    "    xmin=0,\n",
    "    xmax=log.data[\"Energy\"].iters[-1],\n",
    "    linewidth=2,\n",
    "    color=\"k\",\n",
    "    label=\"Exact\",\n",
    ")\n",
    "plt.xlabel(\"Iterations\")\n",
    "plt.ylabel(\"Energy\")\n",
    "plt.legend(frameon=False)"
   ]
  },
  {
   "cell_type": "markdown",
   "id": "e7aeb795",
   "metadata": {},
   "source": [
    "# New content\n"
   ]
  },
  {
   "cell_type": "markdown",
   "id": "71a78b11",
   "metadata": {},
   "source": [
    "## Convolutional Neural Network Ansatz (new)\n",
    "\n",
    "**Why a CNN?** TFIM correlations are predominantly local; 1D convolutions give an inductive bias toward short-range structure and translation invariance (after pooling).\n",
    "\n",
    "The network outputs a real scalar per configuration interpreted as $\\log|\\psi(x)|$. (No complex phase here; TFIM is stoquastic in the $\\sigma^z$ basis ⇒ a positive gauge exists, so a modulus-only model is consistent.)\n",
    "\n",
    "**Design.**\n",
    "- 1D conv stem + residual **CNNBlock** (LayerNorm + GELU).\n",
    "- Global mean pooling over sites → translation-invariant representation.\n",
    "- A final dense head outputs $\\log|\\psi|$.\n",
    "\n",
    "**Training.** Standard NetKet VMC + SR; Metropolis–Hastings sampling (`MetropolisLocal`).\n"
   ]
  },
  {
   "cell_type": "code",
   "execution_count": 24,
   "id": "54a2afd1",
   "metadata": {},
   "outputs": [],
   "source": [
    "# --- Basic Conv Block ---\n",
    "class CNNBlock(nn.Module):\n",
    "    features: int\n",
    "    kernel_size: int\n",
    "    use_residual: bool = True\n",
    "\n",
    "    @nn.compact\n",
    "    def __call__(self, x):\n",
    "        # Normalization\n",
    "        y = nn.LayerNorm(dtype=jnp.float32)(x)\n",
    "        y = nn.Conv(self.features, kernel_size=(self.kernel_size,), padding=\"SAME\")(y)\n",
    "        y = nn.gelu(y)\n",
    "        y = nn.Conv(self.features, kernel_size=(self.kernel_size,), padding=\"SAME\")(y)\n",
    "\n",
    "        if self.use_residual and x.shape[-1] == self.features:\n",
    "            y = x + y\n",
    "        return y\n",
    "\n",
    "\n",
    "# --- Core CNN architecture ---\n",
    "class CNNCore(nn.Module):\n",
    "    N: int\n",
    "    channels: int = 32\n",
    "    depth: int = 3\n",
    "    kernel_size: int = 5\n",
    "\n",
    "    @nn.compact\n",
    "    def __call__(self, spins):       # spins: (B,N)\n",
    "        x = spins.astype(jnp.float32)[..., None]   # (B,N,1)\n",
    "        x = nn.Conv(self.channels, kernel_size=(self.kernel_size,), padding=\"SAME\")(x)\n",
    "        x = nn.gelu(x)\n",
    "\n",
    "        # Stack several convolutional blocks\n",
    "        for _ in range(self.depth - 1):\n",
    "            x = CNNBlock(self.channels, self.kernel_size)(x)\n",
    "\n",
    "        # Pool and output\n",
    "        pooled = jnp.mean(x, axis=1)                       # (B,channels)\n",
    "        log_amp = nn.Dense(1, dtype=jnp.float32)(pooled)[..., 0]\n",
    "        return log_amp\n",
    "\n",
    "\n",
    "# --- NNX wrapper for NetKet ---\n",
    "class CNNLogPsi(nnx.Module):\n",
    "    def __init__(self, N: int, *, rngs: nnx.Rngs, channels=32, depth=3, kernel_size=5):\n",
    "        self.core = nnx.bridge.ToNNX(\n",
    "            CNNCore(N=N, channels=channels, depth=depth, kernel_size=kernel_size),\n",
    "            rngs=rngs\n",
    "        ).lazy_init(jnp.ones((1, N), dtype=jnp.float32))\n",
    "\n",
    "    def __call__(self, x):\n",
    "        return self.core(x)\n"
   ]
  },
  {
   "cell_type": "code",
   "execution_count": 25,
   "id": "0f5f1b84",
   "metadata": {},
   "outputs": [
    {
     "name": "stderr",
     "output_type": "stream",
     "text": [
      "100%|██████████| 100/100 [02:14<00:00,  1.35s/it, Energy=-15.289 ± 0.014 [σ²=1.0e-01, R̂=1.021]]\n"
     ]
    },
    {
     "name": "stdout",
     "output_type": "stream",
     "text": [
      "CNN energy: -15.325 ± 0.013 [σ²=8.1e-02, R̂=1.012]\n",
      "Relative error: 0.00012619301509095225\n"
     ]
    }
   ],
   "source": [
    "sampler = nk.sampler.MetropolisLocal(hi)\n",
    "\n",
    "cnn_model = CNNLogPsi(\n",
    "    N=N, rngs=nnx.Rngs(123),\n",
    "    channels=32, depth=3, kernel_size=5\n",
    ")\n",
    "\n",
    "vstate = nk.vqs.MCState(\n",
    "    sampler, cnn_model,\n",
    "    n_samples=512,           \n",
    "    n_discard_per_chain=16,\n",
    "    chunk_size=256\n",
    ")\n",
    "\n",
    "\n",
    "opt = nk.optimizer.Sgd(learning_rate=0.05)\n",
    "driver = nk.driver.VMC(\n",
    "    H, opt, variational_state=vstate,\n",
    "    preconditioner=nk.optimizer.SR(diag_shift=0.1),\n",
    ")\n",
    "\n",
    "log = nk.logging.RuntimeLog()\n",
    "driver.run(n_iter=100, out=log)\n",
    "\n",
    "cnn_energy = vstate.expect(H)\n",
    "rel_err = abs((cnn_energy.mean - E_gs)/E_gs)\n",
    "print(\"CNN energy:\", cnn_energy)\n",
    "print(\"Relative error:\", rel_err)"
   ]
  },
  {
   "cell_type": "code",
   "execution_count": 26,
   "id": "5bca958a",
   "metadata": {},
   "outputs": [
    {
     "data": {
      "image/png": "[encoded data removed]",
      "text/plain": [
       "<Figure size 640x480 with 1 Axes>"
      ]
     },
     "metadata": {},
     "output_type": "display_data"
    }
   ],
   "source": [
    "plt.errorbar(\n",
    "    log.data[\"Energy\"].iters,\n",
    "    log.data[\"Energy\"].Mean.real,\n",
    "    yerr=log.data[\"Energy\"].Sigma,\n",
    "    label=\"CNN\"\n",
    ")\n",
    "\n",
    "plt.axhline(E_gs, linewidth=2, color=\"black\", label=\"Exact\")\n",
    "plt.xlabel(\"Iteration\"); plt.ylabel(\"Energy\"); plt.legend(); plt.show()"
   ]
  },
  {
   "cell_type": "markdown",
   "id": "cd893857",
   "metadata": {},
   "source": [
    "## Transformer Ansatz with Factored Attention (new)\n",
    "\n",
    "Inspired from the tutorial on Vision Transformer Wavefunction\n",
    "\n",
    "**Objective**  \n",
    "Capture long-range correlations and entanglement patterns through a Transformer.\n",
    "\n",
    "**Design choices**  \n",
    "- No absolute positional embeddings; only relative distances are learned → translation equivariance.  \n",
    "- Factored self-attention as suggested in the tutorial\n",
    "- Residual feed-forward blocks refine features after attention.  \n",
    "- Mean pooling over sites yields a scalar $\\log|\\psi(x)|$."
   ]
  },
  {
   "cell_type": "code",
   "execution_count": 27,
   "id": "bd1d811d",
   "metadata": {},
   "outputs": [],
   "source": [
    "from einops import rearrange\n",
    "\n",
    "# Embedding (1D) (no positional encoding)\n",
    "class Embed(nn.Module):\n",
    "    d_model: int\n",
    "    param_dtype = jnp.float64\n",
    "\n",
    "    def setup(self):\n",
    "        self.proj = nn.Dense(\n",
    "            self.d_model,\n",
    "            kernel_init=nn.initializers.xavier_uniform(),\n",
    "            param_dtype=self.param_dtype,\n",
    "        )\n",
    "\n",
    "    def __call__(self, spins):\n",
    "        \"\"\"\n",
    "        spins: (B, N) in {-1, +1}\n",
    "        returns: (B, N, d_model)\n",
    "        \"\"\"\n",
    "        x = jnp.atleast_2d(spins).astype(self.param_dtype)[..., None]  # (B, N, 1)\n",
    "        x = self.proj(x)                                              # (B, N, d)\n",
    "        return x\n",
    "\n",
    "\n",
    "# Factored Multi-Head Attention (position-only, circulant 1D)\n",
    "class FMHA(nn.Module):\n",
    "    d_model: int\n",
    "    n_heads: int\n",
    "    n_tokens: int            # sequence length N\n",
    "    param_dtype = jnp.float64\n",
    "\n",
    "    def setup(self):\n",
    "        assert self.d_model % self.n_heads == 0, \"d_model must be divisible by n_heads\"\n",
    "        self.v_proj = nn.Dense(\n",
    "            self.d_model,\n",
    "            kernel_init=nn.initializers.xavier_uniform(),\n",
    "            param_dtype=self.param_dtype,\n",
    "        )\n",
    "        self.out_proj = nn.Dense(\n",
    "            self.d_model,\n",
    "            kernel_init=nn.initializers.xavier_uniform(),\n",
    "            param_dtype=self.param_dtype,\n",
    "        )\n",
    "        # Per-head distance kernels: alpha[h, delta], delta in [0..N-1]\n",
    "        self.alpha = self.param(\n",
    "            \"alpha\",\n",
    "            nn.initializers.xavier_uniform(),\n",
    "            (self.n_heads, self.n_tokens),\n",
    "            self.param_dtype,\n",
    "        )\n",
    "\n",
    "    def __call__(self, x):\n",
    "        \"\"\"\n",
    "        x: (B, N, d_model)\n",
    "        returns: (B, N, d_model)\n",
    "        \"\"\"\n",
    "        B, N, D = x.shape\n",
    "        H = self.n_heads\n",
    "        d_h = D // H\n",
    "\n",
    "        # Values projection and head split\n",
    "        V = self.v_proj(x)                                     # (B, N, D)\n",
    "        V = rearrange(V, \"b n (h d) -> b h n d\", h=H)          # (B, H, N, d_h)\n",
    "\n",
    "        # Build circulant mixing matrices A[h, i, j] = alpha[h, (i-j) mod N]\n",
    "        idx  = jnp.arange(N)\n",
    "        dist = (idx[None, :] - idx[:, None]) % N               # (N, N)\n",
    "        A    = self.alpha[:, dist]                             # (H, N, N)\n",
    "\n",
    "        # Position-only mixing per head\n",
    "        Y = jnp.einsum(\"hij, bhjd -> bhid\", A, V)              # (B, H, N, d_h)\n",
    "\n",
    "        # Merge heads and output projection\n",
    "        Y = rearrange(Y, \"b h n d -> b n (h d)\")               # (B, N, D)\n",
    "        Y = self.out_proj(Y)                                   # (B, N, D)\n",
    "        return Y\n",
    "\n",
    "\n",
    "# Encoder Block (1D)\n",
    "class EncoderBlock(nn.Module):\n",
    "    d_model: int\n",
    "    n_heads: int\n",
    "    n_tokens: int\n",
    "    param_dtype = jnp.float64\n",
    "\n",
    "    def setup(self):\n",
    "        self.ln1 = nn.LayerNorm(param_dtype=self.param_dtype)\n",
    "        self.attn = FMHA(\n",
    "            d_model=self.d_model,\n",
    "            n_heads=self.n_heads,\n",
    "            n_tokens=self.n_tokens,\n",
    "        )\n",
    "        self.ln2 = nn.LayerNorm(param_dtype=self.param_dtype)\n",
    "        self.ff = nn.Sequential(\n",
    "            [\n",
    "                nn.Dense(\n",
    "                    2 * self.d_model,\n",
    "                    kernel_init=nn.initializers.xavier_uniform(),\n",
    "                    param_dtype=self.param_dtype,\n",
    "                ),\n",
    "                nn.gelu,\n",
    "                nn.Dense(\n",
    "                    self.d_model,\n",
    "                    kernel_init=nn.initializers.xavier_uniform(),\n",
    "                    param_dtype=self.param_dtype,\n",
    "                ),\n",
    "            ]\n",
    "        )\n",
    "\n",
    "    def __call__(self, x):\n",
    "        # Pre-norm + factored attention + residual\n",
    "        y = self.ln1(x)\n",
    "        y = self.attn(y)\n",
    "        x = x + y\n",
    "\n",
    "        # Pre-norm + feed-forward + residual\n",
    "        y = self.ln2(x)\n",
    "        y = self.ff(y)\n",
    "        x = x + y\n",
    "        return x\n",
    "\n",
    "\n",
    "# Encoder (1D)\n",
    "class Encoder(nn.Module):\n",
    "    depth: int\n",
    "    d_model: int\n",
    "    n_heads: int\n",
    "    n_tokens: int\n",
    "\n",
    "    def setup(self):\n",
    "        self.layers = [\n",
    "            EncoderBlock(\n",
    "                d_model=self.d_model,\n",
    "                n_heads=self.n_heads,\n",
    "                n_tokens=self.n_tokens,\n",
    "            )\n",
    "            for _ in range(self.depth)\n",
    "        ]\n",
    "\n",
    "    def __call__(self, x):\n",
    "        for layer in self.layers:\n",
    "            x = layer(x)\n",
    "        return x\n",
    "\n",
    "\n",
    "# Output Head (1D)\n",
    "class OutputHead(nn.Module):\n",
    "    d_model: int\n",
    "    param_dtype = jnp.float64\n",
    "\n",
    "    def setup(self):\n",
    "        self.out_ln = nn.LayerNorm(param_dtype=self.param_dtype)\n",
    "        self.out = nn.Dense(\n",
    "            1,\n",
    "            kernel_init=nn.initializers.xavier_uniform(),\n",
    "            param_dtype=self.param_dtype,\n",
    "        )\n",
    "\n",
    "    def __call__(self, x):\n",
    "        \"\"\"\n",
    "        x: (B, N, d_model)\n",
    "        returns: (B,)  -> real log|psi|\n",
    "        \"\"\"\n",
    "        # Mean over sites -> translation-invariant representation\n",
    "        pooled = jnp.mean(x, axis=1)               # (B, d_model)\n",
    "        z = self.out_ln(pooled)\n",
    "        log_amp = self.out(z)[..., 0]              # (B,)\n",
    "        return log_amp\n",
    "\n",
    "\n",
    "# Full 1D Transformer model\n",
    "class Transformer1D(nn.Module):\n",
    "    depth: int\n",
    "    d_model: int\n",
    "    n_heads: int\n",
    "    n_tokens: int\n",
    "\n",
    "    @nn.compact\n",
    "    def __call__(self, spins):\n",
    "        \"\"\"\n",
    "        spins: (B, N)\n",
    "        returns: (B,) real log|psi|\n",
    "        \"\"\"\n",
    "        x = Embed(d_model=self.d_model)(spins)                 # (B, N, d)\n",
    "        x = Encoder(\n",
    "            depth=self.depth,\n",
    "            d_model=self.d_model,\n",
    "            n_heads=self.n_heads,\n",
    "            n_tokens=self.n_tokens,\n",
    "        )(x)                                                   # (B, N, d)\n",
    "        log_psi = OutputHead(d_model=self.d_model)(x)          # (B,)\n",
    "        return log_psi\n",
    "\n",
    "\n",
    "# NetKet wrapper (NNX) \n",
    "class TransformerLogPsi(nnx.Module):\n",
    "    def __init__(self, N: int, *, rngs: nnx.Rngs, d_model=32, depth=2, n_heads=2):\n",
    "        self.core = nnx.bridge.ToNNX(\n",
    "            Transformer1D(\n",
    "                depth=depth,\n",
    "                d_model=d_model,\n",
    "                n_heads=n_heads,\n",
    "                n_tokens=N,\n",
    "            ),\n",
    "            rngs=rngs,\n",
    "        ).lazy_init(jnp.ones((1, N), dtype=jnp.float64))\n",
    "\n",
    "    def __call__(self, x):\n",
    "        return self.core(x)"
   ]
  },
  {
   "cell_type": "code",
   "execution_count": 28,
   "id": "6a459e4f",
   "metadata": {},
   "outputs": [],
   "source": [
    "sampler = nk.sampler.MetropolisLocal(hi)\n",
    "\n",
    "model = TransformerLogPsi(\n",
    "    N=N, rngs=nnx.Rngs(42),\n",
    "    d_model=32, depth=2, n_heads=2  \n",
    ")\n",
    "\n",
    "vstate = nk.vqs.MCState(\n",
    "    sampler, model,\n",
    "    n_samples=512,           \n",
    "    n_discard_per_chain=8,\n",
    "    chunk_size=256\n",
    ")"
   ]
  },
  {
   "cell_type": "code",
   "execution_count": 29,
   "id": "dd82415b",
   "metadata": {},
   "outputs": [
    {
     "name": "stderr",
     "output_type": "stream",
     "text": [
      "100%|██████████| 100/100 [03:08<00:00,  1.89s/it, Energy=-15.3264 ± 0.0055 [σ²=1.6e-02, R̂=1.018]]\n"
     ]
    },
    {
     "name": "stdout",
     "output_type": "stream",
     "text": [
      "-15.3233 ± 0.0041 [σ²=8.8e-03, R̂=1.008]\n"
     ]
    }
   ],
   "source": [
    "opt = nk.optimizer.Sgd(learning_rate=0.05)\n",
    "\n",
    "log = nk.logging.RuntimeLog()\n",
    "driver = nk.driver.VMC(\n",
    "    H, opt, variational_state=vstate,\n",
    "    preconditioner=nk.optimizer.SR(diag_shift=0.1) \n",
    ")\n",
    "\n",
    "driver.run(n_iter=100, out=log)\n",
    "\n",
    "print(vstate.expect(H))"
   ]
  },
  {
   "cell_type": "code",
   "execution_count": 37,
   "id": "8c46467b",
   "metadata": {},
   "outputs": [
    {
     "data": {
      "image/png": "[encoded data removed]",
      "text/plain": [
       "<Figure size 640x480 with 1 Axes>"
      ]
     },
     "metadata": {},
     "output_type": "display_data"
    },
    {
     "name": "stdout",
     "output_type": "stream",
     "text": [
      "Transformer energy: -15.293 ± 0.017 [σ²=1.2e-01]\n",
      "Relative error: 0.0019556957950675954\n"
     ]
    }
   ],
   "source": [
    "plt.errorbar(\n",
    "    log.data[\"Energy\"].iters,\n",
    "    log.data[\"Energy\"].Mean.real,\n",
    "    yerr=log.data[\"Energy\"].Sigma,\n",
    "    label=\"Transformer\"\n",
    ")\n",
    "plt.axhline(E_gs, color=\"black\", linewidth=2, label=\"Exact\")\n",
    "plt.xlabel(\"Iteration\"); plt.ylabel(\"Energy\"); plt.legend(); plt.show()\n",
    "\n",
    "E_tr = vstate.expect(H)\n",
    "rel_err = abs((E_tr.mean - E_gs)/E_gs)\n",
    "print(\"Transformer energy:\", E_tr)\n",
    "print(\"Relative error:\", rel_err)"
   ]
  },
  {
   "cell_type": "markdown",
   "id": "791a5526",
   "metadata": {},
   "source": [
    "## Autoregressive models (ARNN & masked CNN) — new\n",
    "\n",
    "**Goal**  \n",
    "Learn a fully normalized wavefunction to enable **exact sampling** (no burn-in, no autocorrelation) and faster, more stable VMC.\n",
    "\n",
    "**Models used**\n",
    "- **ARNN (Dense):** `nk.models.ARNNDense` — autoregressive MLP producing conditionals $ \\psi_i(s_i\\mid s_{<i}) $.\n",
    "- **Masked CNN (fast AR conv):** `nk.models.FastARNNConv1D` — **masked 1D convolutions** that preserve the autoregressive factorization while expanding the receptive field efficiently.\n",
    "\n",
    "**Sampler**  \n",
    "Both models pair with `nk.sampler.ARDirectSampler`, which draws **independent** samples from the learned conditionals.\n",
    "\n",
    "\n",
    "**Protocol**  \n",
    "Initialize model → `ARDirectSampler` → `MCState` → optimize with VMC + SR → report energy and relative error vs $E_{\\mathrm{gs}}$.\n"
   ]
  },
  {
   "cell_type": "markdown",
   "id": "41fc777e",
   "metadata": {},
   "source": [
    "### ARNN"
   ]
  },
  {
   "cell_type": "code",
   "execution_count": 31,
   "id": "b5e7149e",
   "metadata": {},
   "outputs": [
    {
     "name": "stdout",
     "output_type": "stream",
     "text": [
      "Number of parameters (ARNNDense): 18984\n"
     ]
    }
   ],
   "source": [
    "model = nk.models.ARNNDense(hilbert=hi, layers=3, features=10)\n",
    "\n",
    "# the autoregressive model has an exact sampler because of the conditional prob\n",
    "sampler = nk.sampler.ARDirectSampler(hi)\n",
    "\n",
    "# With direct sampling, we don't need many samples in each step to form a\n",
    "# Markov chain, and we don't need to discard samples\n",
    "vstate = nk.vqs.MCState(sampler, model, n_samples=512)\n",
    "\n",
    "print(f\"Number of parameters (ARNNDense): {vstate.n_parameters}\")"
   ]
  },
  {
   "cell_type": "code",
   "execution_count": 32,
   "id": "5089468c",
   "metadata": {},
   "outputs": [
    {
     "name": "stderr",
     "output_type": "stream",
     "text": [
      "100%|██████████| 300/300 [01:51<00:00,  2.68it/s, Energy=-15.322 ± 0.014 [σ²=8.0e-02]]\n"
     ]
    },
    {
     "name": "stdout",
     "output_type": "stream",
     "text": [
      "Optimized energy: -15.304 ± 0.013 [σ²=1.2e-01] \n",
      "Relative error: 0.12%\n"
     ]
    }
   ],
   "source": [
    "optimizer = nk.optimizer.Sgd(learning_rate=0.02)\n",
    "preconditioner = nk.optimizer.SR(diag_shift=0.1)\n",
    "\n",
    "# Notice the use, again of Stochastic Reconfiguration, which considerably improves the optimisation\n",
    "gs = nk.driver.VMC(\n",
    "    H, optimizer, variational_state=vstate, preconditioner=preconditioner\n",
    ")\n",
    "\n",
    "# logging and running\n",
    "log = nk.logging.RuntimeLog()\n",
    "gs.run(n_iter=300, out=log)\n",
    "\n",
    "arnn_energy = vstate.expect(H)\n",
    "error = abs((arnn_energy.mean - E_gs) / E_gs)\n",
    "print(f\"Optimized energy: {arnn_energy} \\nRelative error: {error*100:.2f}%\")"
   ]
  },
  {
   "cell_type": "code",
   "execution_count": 33,
   "id": "64d6979c",
   "metadata": {},
   "outputs": [
    {
     "data": {
      "image/png": "[encoded data removed]",
      "text/plain": [
       "<Figure size 640x480 with 1 Axes>"
      ]
     },
     "metadata": {},
     "output_type": "display_data"
    }
   ],
   "source": [
    "plt.errorbar(\n",
    "    log.data[\"Energy\"].iters,\n",
    "    log.data[\"Energy\"].Mean.real,\n",
    "    yerr=log.data[\"Energy\"].Sigma,\n",
    "    label=\"ARNN\"\n",
    ")\n",
    "plt.axhline(E_gs, color=\"black\", linewidth=2, label=\"Exact\")\n",
    "plt.xlabel(\"Iteration\"); plt.ylabel(\"Energy\"); plt.legend(); plt.show()"
   ]
  },
  {
   "cell_type": "markdown",
   "id": "5a0d8aeb",
   "metadata": {},
   "source": [
    "### Masked CNN"
   ]
  },
  {
   "cell_type": "code",
   "execution_count": 34,
   "id": "2af0861e",
   "metadata": {},
   "outputs": [
    {
     "name": "stdout",
     "output_type": "stream",
     "text": [
      "Number of parameters (FastARNNConv1D): 662\n"
     ]
    }
   ],
   "source": [
    "# Fast autoregressive 1D Conv model \n",
    "model = nk.models.FastARNNConv1D(hilbert=hi, layers=3, features=10, kernel_size=5)\n",
    "\n",
    "sampler = nk.sampler.ARDirectSampler(hi)\n",
    "\n",
    "vstate = nk.vqs.MCState(sampler, model, n_samples=512)\n",
    "print(f\"Number of parameters (FastARNNConv1D): {vstate.n_parameters}\")\n"
   ]
  },
  {
   "cell_type": "code",
   "execution_count": 35,
   "id": "a7efd4d3",
   "metadata": {},
   "outputs": [
    {
     "name": "stderr",
     "output_type": "stream",
     "text": [
      "100%|██████████| 200/200 [01:43<00:00,  1.93it/s, Energy=-15.312 ± 0.014 [σ²=1.2e-01]]\n"
     ]
    },
    {
     "name": "stdout",
     "output_type": "stream",
     "text": [
      "Optimized energy: -15.304 ± 0.013 [σ²=1.2e-01] \n",
      "Relative error: 0.20%\n"
     ]
    }
   ],
   "source": [
    "optimizer = nk.optimizer.Sgd(learning_rate=0.02)\n",
    "preconditioner = nk.optimizer.SR(diag_shift=0.1)\n",
    "\n",
    "gs = nk.driver.VMC(\n",
    "    H, optimizer, variational_state=vstate, preconditioner=preconditioner\n",
    ")\n",
    "\n",
    "# logging and running\n",
    "log = nk.logging.RuntimeLog()\n",
    "gs.run(n_iter=200, out=log)\n",
    "\n",
    "arnnconv_energy = vstate.expect(H)\n",
    "error = abs((arnnconv_energy.mean - E_gs) / E_gs)\n",
    "print(f\"Optimized energy: {arnn_energy} \\nRelative error: {error*100:.2f}%\")"
   ]
  },
  {
   "cell_type": "code",
   "execution_count": 36,
   "id": "8ef27af2",
   "metadata": {},
   "outputs": [
    {
     "data": {
      "image/png": "[encoded data removed]",
      "text/plain": [
       "<Figure size 640x480 with 1 Axes>"
      ]
     },
     "metadata": {},
     "output_type": "display_data"
    }
   ],
   "source": [
    "plt.errorbar(\n",
    "    log.data[\"Energy\"].iters,\n",
    "    log.data[\"Energy\"].Mean.real,\n",
    "    yerr=log.data[\"Energy\"].Sigma,\n",
    "    label=\"Masked CNN\"\n",
    ")\n",
    "plt.axhline(E_gs, color=\"black\", linewidth=2, label=\"Exact\")\n",
    "plt.xlabel(\"Iteration\"); plt.ylabel(\"Energy\"); plt.legend(); plt.show()"
   ]
  },
  {
   "cell_type": "markdown",
   "id": "a230c906",
   "metadata": {},
   "source": [
    "---\n",
    "### References\n",
    "- G. Carleo & M. Troyer, “Solving the quantum many-body problem with artificial neural networks,”(2017).\n",
    "- O. Sharir, Y. Levine, N. Wies, G. Carleo, A. Shashua, “Deep Autoregressive Models for the Efficient Variational Simulation of Many-Body Quantum Systems,” (2020).\n",
    "- NetKet documentation: tutorials on TFIM, NQS, AR models.\n"
   ]
  },
  {
   "cell_type": "markdown",
   "id": "e8cb792c",
   "metadata": {},
   "source": []
  }
 ],
 "metadata": {
  "kernelspec": {
   "display_name": "nqs311",
   "language": "python",
   "name": "python3"
  },
  "language_info": {
   "codemirror_mode": {
    "name": "ipython",
    "version": 3
   },
   "file_extension": ".py",
   "mimetype": "text/x-python",
   "name": "python",
   "nbconvert_exporter": "python",
   "pygments_lexer": "ipython3",
   "version": "3.11.13"
  }
 },
 "nbformat": 4,
 "nbformat_minor": 5
}
